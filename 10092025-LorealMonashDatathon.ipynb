{
 "cells": [
  {
   "cell_type": "markdown",
   "id": "491e8112-55df-484e-925d-407f77181709",
   "metadata": {},
   "source": [
    "## COMBINING DATASET "
   ]
  },
  {
   "cell_type": "code",
   "execution_count": 4,
   "id": "56e9cc1d-4014-4e40-ad77-8b7a8080142a",
   "metadata": {},
   "outputs": [
    {
     "name": "stdout",
     "output_type": "stream",
     "text": [
      "Requirement already satisfied: polars in c:\\users\\rayap\\anaconda\\lib\\site-packages (1.33.1)\n",
      "Requirement already satisfied: langdetect in c:\\users\\rayap\\anaconda\\lib\\site-packages (1.0.9)\n",
      "Requirement already satisfied: six in c:\\users\\rayap\\anaconda\\lib\\site-packages (from langdetect) (1.17.0)\n"
     ]
    }
   ],
   "source": [
    "! pip install polars\n",
    "! pip install langdetect\n"
   ]
  },
  {
   "cell_type": "code",
   "execution_count": 7,
   "id": "0377f07e",
   "metadata": {},
   "outputs": [
    {
     "name": "stdout",
     "output_type": "stream",
     "text": [
      "✅ Combined dataset saved as BIG_BOY.csv\n",
      "Shape of BIGBOY: (4725012, 10)\n",
      "✅ Text cleaning done\n",
      "shape: (10, 2)\n",
      "┌─────────────────────────────────┬─────────────────────────────────┐\n",
      "│ textOriginal                    ┆ cleaned_comment                 │\n",
      "│ ---                             ┆ ---                             │\n",
      "│ str                             ┆ str                             │\n",
      "╞═════════════════════════════════╪═════════════════════════════════╡\n",
      "│ PLEASE LESBIAN FLAG I BEG YOU … ┆ please lesbian flag i beg you … │\n",
      "│ Apply mashed potato juice and … ┆ apply mashed potato juice and … │\n",
      "│ 69 missed calls from mars👽     ┆ missed calls from mars👽        │\n",
      "│ Baaa                            ┆ baaa                            │\n",
      "│ you look like raven from pheno… ┆ you look like raven from pheno… │\n",
      "│ American                        ┆ american                        │\n",
      "│ Sahi disha me ja ja raha india… ┆ sahi disha me ja ja raha india… │\n",
      "│ ❤❤❤❤❤❤❤❤❤❤                      ┆ ❤❤❤❤❤❤❤❤❤❤                      │\n",
      "│ Love your videos. Thank you ❤❤… ┆ love your videos thank you ❤❤❤  │\n",
      "│ India is  the best and  very b… ┆ india is the best and very bea… │\n",
      "└─────────────────────────────────┴─────────────────────────────────┘\n"
     ]
    }
   ],
   "source": [
    "import polars as pl\n",
    "import re\n",
    "\n",
    "# --- Step 1: Read and combine CSV files with Polars ---\n",
    "csv_files = [\n",
    "    \"comments1.csv\",\n",
    "    \"comments2.csv\",\n",
    "    \"comments3.csv\",\n",
    "    \"comments4.csv\",\n",
    "    \"comments5.csv\"\n",
    "]\n",
    "\n",
    "df_list = [pl.read_csv(file) for file in csv_files]\n",
    "BIGBOY = pl.concat(df_list)\n",
    "\n",
    "# Save combined dataset\n",
    "BIGBOY.write_csv(\"BIG_BOY.csv\")\n",
    "print(\"✅ Combined dataset saved as BIG_BOY.csv\")\n",
    "print(\"Shape of BIGBOY:\", BIGBOY.shape)\n",
    "\n",
    "# --- Step 2: Text cleaning (but keep emojis & foreign languages) ---\n",
    "def clean_text(text: str) -> str:\n",
    "    if text is None:\n",
    "        return None\n",
    "    \n",
    "    # Lowercase\n",
    "    text = text.lower()\n",
    "\n",
    "    # Remove ASCII punctuation & numbers, keep emojis/foreign chars\n",
    "    text = re.sub(r\"[0-9!\\\"#$%&'()*+,\\-./:;<=>?@\\[\\]^_`{|}~]\", \" \", text)\n",
    "\n",
    "    # Remove extra spaces\n",
    "    text = re.sub(r\"\\s+\", \" \", text).strip()\n",
    "    \n",
    "    return text\n",
    "\n",
    "BIGBOY = BIGBOY.with_columns(\n",
    "    pl.col(\"textOriginal\").map_elements(clean_text, return_dtype=pl.Utf8).alias(\"cleaned_comment\")\n",
    ")\n",
    "\n",
    "print(\"✅ Text cleaning done\")\n",
    "print(BIGBOY.select([\"textOriginal\", \"cleaned_comment\"]).head(10))\n"
   ]
  },
  {
   "cell_type": "code",
   "execution_count": null,
   "id": "61d99be7",
   "metadata": {},
   "outputs": [],
   "source": []
  }
 ],
 "metadata": {
  "kernelspec": {
   "display_name": "Python 3 (ipykernel)",
   "language": "python",
   "name": "python3"
  },
  "language_info": {
   "codemirror_mode": {
    "name": "ipython",
    "version": 3
   },
   "file_extension": ".py",
   "mimetype": "text/x-python",
   "name": "python",
   "nbconvert_exporter": "python",
   "pygments_lexer": "ipython3",
   "version": "3.13.5"
  }
 },
 "nbformat": 4,
 "nbformat_minor": 5
}
